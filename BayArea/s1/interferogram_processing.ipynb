{
 "cells": [
  {
   "cell_type": "markdown",
   "source": [
    "# UAVSAR Interferogram Processing"
   ],
   "metadata": {}
  },
  {
   "cell_type": "markdown",
   "source": [
    "**Author**: Forrest Williams - Jet Propulsion Laboratory\n",
    "\n",
    "This notebook provides a working example of end-to-end processing of UAVSAR interferograms through the ISCE application **stripmapApp.py**."
   ],
   "metadata": {}
  },
  {
   "cell_type": "markdown",
   "source": [
    "## Prep A: Initial setup of the notebook\n",
    "Below we set up the directory structure for this notebook exercise. In addition, we load the required modules into our python environment using the **`import`** command."
   ],
   "metadata": {}
  },
  {
   "cell_type": "code",
   "execution_count": null,
   "source": [
    "import glob\n",
    "import os\n",
    "import stat\n",
    "import sys\n",
    "from datetime import datetime\n",
    "import itertools\n",
    "\n",
    "## Defining the home and data directories at the processing location\n",
    "tutorial_home_dir = os.path.abspath(os.getcwd())\n",
    "work_dir = os.path.abspath(os.getcwd())\n",
    "print(\"Tutorial directory: \", tutorial_home_dir)\n",
    "print(\"Work directory: \", work_dir)\n",
    "\n",
    "## Enter working directory\n",
    "os.chdir(work_dir)\n",
    "\n",
    "#set desired shell\n",
    "os.environ[\"SHELL_NAME\"] = 'sh'\n",
    "\n",
    "#set environment variable for BBOX (SNWE)\n",
    "#os.environ[\"BBOX\"] = '36.976 37.57 -122.125 -121.2'\n",
    "os.environ[\"BIG_BBOX\"] = '36 39 -123 -120'\n",
    "\n",
    "#set environment variable for download sh file\n",
    "download_file = glob.glob(os.path.join(work_dir,'*.sh'))[0]\n",
    "os.environ[\"DOWNLOAD_FILE\"] = os.path.basename(download_file)\n",
    "\n",
    "#set ISCE & stripmapApp environment variables\n",
    "#os.environ[\"PATH\"] += os.pathsep + path\n",
    "os.environ[\"ISCE_HOME\"] = '/home/jovyan/.local/envs/isce/lib/python3.9/site-packages/isce'\n",
    "os.environ[\"PATH\"] = os.path.join(os.environ[\"ISCE_HOME\"],'applications') + os.pathsep + os.environ[\"PATH\"]\n",
    "os.environ[\"PATH\"] = os.environ[\"PATH\"] + os.pathsep + os.path.join(os.environ[\"ISCE_HOME\"],'bin')\n",
    "os.environ[\"PYTHONPATH\"] = os.path.dirname(os.environ[\"ISCE_HOME\"])\n",
    "os.environ[\"PATH\"] = os.environ[\"PATH\"] + os.pathsep + '/home/jovyan/isce2/contrib/stack/stripmapStack'"
   ],
   "outputs": [],
   "metadata": {}
  },
  {
   "cell_type": "markdown",
   "source": [
    "## Prep B: Download data\n",
    "First attempt to download data directly with the bash script."
   ],
   "metadata": {}
  },
  {
   "cell_type": "code",
   "execution_count": null,
   "source": [
    "!chmod u+x $DOWNLOAD_FILE\n",
    "!./$DOWNLOAD_FILE"
   ],
   "outputs": [],
   "metadata": {}
  },
  {
   "cell_type": "code",
   "execution_count": null,
   "source": [
    "#set environment variable for .dop file\n",
    "dop_file = glob.glob(os.path.join(work_dir,'*.dop'))[0]\n",
    "os.environ[\"DOP_FILE\"] = dop_file\n",
    "#set environment variable for downloaded data prefix\n",
    "os.environ[\"FILE_PREFIX\"] = os.path.basename(dop_file).split('_')[0]\n",
    "\n",
    "#set environment variable for segment number\n",
    "segment_num = os.path.basename(glob.glob(os.path.join(work_dir,'*_1x1.slc'))[0])\n",
    "segment_num = segment_num.split('_1x1.slc')[0].split('_')[-1].split('s')[-1]\n",
    "os.environ[\"SEGMENT_NUM\"] = segment_num"
   ],
   "outputs": [],
   "metadata": {}
  },
  {
   "cell_type": "markdown",
   "source": [
    "## Perform ISCE Processing"
   ],
   "metadata": {}
  },
  {
   "cell_type": "markdown",
   "source": [
    "### Create Run Files"
   ],
   "metadata": {}
  },
  {
   "cell_type": "code",
   "execution_count": null,
   "source": [
    "!ls"
   ],
   "outputs": [],
   "metadata": {}
  },
  {
   "cell_type": "code",
   "execution_count": 3,
   "source": [
    "!mkdir downloadHH\n",
    "!mv $FILE_PREFIX* downloadHH/\n",
    "!mv downloadHH/*.dop ."
   ],
   "outputs": [],
   "metadata": {}
  },
  {
   "cell_type": "code",
   "execution_count": null,
   "source": [
    "!prepareUAVSAR_coregStack.py -i downloadHH -o SLC -d $DOP_FILE -s $SEGMENT_NUM"
   ],
   "outputs": [],
   "metadata": {}
  },
  {
   "cell_type": "markdown",
   "source": [
    "Some directory setup needs to be done before we can run `stackStripMap.py`:"
   ],
   "metadata": {}
  },
  {
   "cell_type": "code",
   "execution_count": null,
   "source": [
    "!ls"
   ],
   "outputs": [],
   "metadata": {}
  },
  {
   "cell_type": "code",
   "execution_count": 13,
   "source": [
    "!mkdir merged\n",
    "!ln -s $work_dir/SLC $work_dir/merged/SLC"
   ],
   "outputs": [],
   "metadata": {}
  },
  {
   "cell_type": "markdown",
   "source": [
    "Download DEM with `dem.py`:"
   ],
   "metadata": {}
  },
  {
   "cell_type": "code",
   "execution_count": 21,
   "source": [
    "os.mkdir(os.path.join(work_dir,'DEM'))\n",
    "os.chdir(os.path.join(work_dir,'DEM'))"
   ],
   "outputs": [],
   "metadata": {}
  },
  {
   "cell_type": "code",
   "execution_count": null,
   "source": [
    "## Download DEM (-f fill and -c ellipsoidal correction\n",
    "!dem.py -a stitch -b $BIG_BBOX -k -s 1 -c -f"
   ],
   "outputs": [],
   "metadata": {}
  },
  {
   "cell_type": "code",
   "execution_count": null,
   "source": [
    "## Set DEM path\n",
    "os.chdir(work_dir)\n",
    "dem_file = glob.glob(os.path.join('DEM','*.wgs84'))[0]\n",
    "os.environ[\"DEM_FILE\"] = os.path.abspath(os.path.join('DEM',dem_file))"
   ],
   "outputs": [],
   "metadata": {}
  },
  {
   "cell_type": "markdown",
   "source": [
    "Let's determine what the minimum time difference is:"
   ],
   "metadata": {}
  },
  {
   "cell_type": "code",
   "execution_count": null,
   "source": [
    "d = [str(os.path.basename(i)) for i in os.listdir('SLC') if os.path.isdir(os.path.join('SLC',i))]\n",
    "dates = [datetime.strptime(x,'%Y%m%d') for x in d]\n",
    "dates.sort()\n",
    "difference = [x-y for x,y in zip(dates,[dates[0]]+dates[0:-1])]\n",
    "#round to nearest 100\n",
    "max_difference = max(difference).days\n",
    "max_difference -= max_difference % -100\n",
    "print(max_difference) #should be 800\n",
    "\n",
    "#set environment variable\n",
    "os.environ[\"TIME_DIFF\"] = str(max_difference)"
   ],
   "outputs": [],
   "metadata": {}
  },
  {
   "cell_type": "code",
   "execution_count": null,
   "source": [
    "#!stackStripMap.py -x \"$BBOX\" -s SLC/ -d $DEM_FILE -a 12 -r 3 -W interferogram --nofocus -S uavsar_stack -t $TIME_DIFF --filter_strength 0.2\n",
    "!stackStripMap.py -s SLC/ -d $DEM_FILE -a 12 -r 3 -W interferogram --nofocus -S uavsar_stack -t $TIME_DIFF --filter_strength 0.2"
   ],
   "outputs": [],
   "metadata": {}
  },
  {
   "cell_type": "code",
   "execution_count": null,
   "source": [
    "!ls run_files"
   ],
   "outputs": [],
   "metadata": {}
  },
  {
   "cell_type": "code",
   "execution_count": null,
   "source": [
    "!nproc"
   ],
   "outputs": [],
   "metadata": {}
  },
  {
   "cell_type": "markdown",
   "source": [
    "### Excecute Run Files\n",
    "\n",
    "For long-running scripts, it's better to run the commands within a shell with nohup specified instead of from inside the notebook because jupyter lab does not handle ssh disconnections well. Also, for **UAVSAR data only steps 1 and 8 need to be run** (coregister DEM and create interferograms). The cell below generates two .tsch that run each respectively and log the results. Copy the lines printed by this cell, then run them in the shell."
   ],
   "metadata": {}
  },
  {
   "cell_type": "code",
   "execution_count": null,
   "source": [
    "#header = f'#!/bin/{os.environ[\"SHELL_NAME\"]}\\n\\n'\n",
    "\n",
    "# The crop step adjusts the order of the other steps\n",
    "if os.path.exists(os.path.join(work_dir,'run_files','run_01_crop')):\n",
    "    crop = f'cd run_files ; ./run_01_crop >& crop.log\\n'\n",
    "    master = f'cd run_files ; ./run_02_reference >& master.log\\n'\n",
    "    igrams = f'cd run_files ; ./run_09_igram >& igrams.log\\n'\n",
    "    cmds = {'crop':crop,'master':master,'igrams':igrams}\n",
    "else:\n",
    "    master = f'cd run_files ; ./run_01_reference >& master.log\\n'\n",
    "    igrams = f'cd run_files ; ./run_08_igram >& igrams.log\\n'\n",
    "    cmds = {'master':master,'igrams':igrams}\n",
    "\n",
    "for key in cmds:\n",
    "    name = f'run-{key}.{os.environ[\"SHELL_NAME\"]}'\n",
    "    with open(name, 'w') as f:\n",
    "        #f.write(header)\n",
    "        f.write(cmds[key])\n",
    "    st = os.stat(name)\n",
    "    os.chmod(name, st.st_mode | stat.S_IEXEC)\n",
    "    print(f'./{name}')\n",
    "\n",
    "nameOG = f'run-ALL.{os.environ[\"SHELL_NAME\"]}'\n",
    "with open(nameOG, 'w') as f:\n",
    "    f.write('chmod u+x run_files/*\\n\\n')\n",
    "    for key in cmds:\n",
    "        name = f'run-{key}.{os.environ[\"SHELL_NAME\"]}'\n",
    "        f.write(f'./{name} >& {name}.log\\n\\n')\n",
    "    st = os.stat(nameOG)\n",
    "    os.chmod(nameOG, st.st_mode | stat.S_IEXEC)\n",
    "    print(f'./{nameOG}')\n"
   ],
   "outputs": [],
   "metadata": {}
  },
  {
   "cell_type": "markdown",
   "source": [
    "### Run scripts"
   ],
   "metadata": {}
  },
  {
   "cell_type": "code",
   "execution_count": null,
   "source": [
    "!chmod u+x run-ALL.$SHELL_NAME\n",
    "!./run-ALL.$SHELL_NAME >& run-ALL.log"
   ],
   "outputs": [],
   "metadata": {}
  }
 ],
 "metadata": {
  "kernelspec": {
   "display_name": "Python 3 (ipykernel)",
   "language": "python",
   "name": "python3"
  },
  "language_info": {
   "codemirror_mode": {
    "name": "ipython",
    "version": 3
   },
   "file_extension": ".py",
   "mimetype": "text/x-python",
   "name": "python",
   "nbconvert_exporter": "python",
   "pygments_lexer": "ipython3",
   "version": "3.8.10"
  }
 },
 "nbformat": 4,
 "nbformat_minor": 5
}